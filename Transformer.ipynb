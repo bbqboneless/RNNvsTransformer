{
  "nbformat": 4,
  "nbformat_minor": 0,
  "metadata": {
    "colab": {
      "provenance": [],
      "gpuType": "T4",
      "collapsed_sections": [
        "uBuaCCtSWLJk",
        "GQq_92FwXdIZ"
      ]
    },
    "kernelspec": {
      "name": "python3",
      "display_name": "Python 3"
    },
    "language_info": {
      "name": "python"
    },
    "accelerator": "GPU"
  },
  "cells": [
    {
      "cell_type": "markdown",
      "source": [
        "# Machine Translation"
      ],
      "metadata": {
        "id": "j3PN5OdVWEo3"
      }
    },
    {
      "cell_type": "code",
      "execution_count": 1,
      "metadata": {
        "colab": {
          "base_uri": "https://localhost:8080/"
        },
        "id": "79gScBMhU07Z",
        "outputId": "66521c4b-0083-4681-de92-a23fe7d968b9"
      },
      "outputs": [
        {
          "output_type": "stream",
          "name": "stdout",
          "text": [
            "--2023-06-04 18:34:47--  http://storage.googleapis.com/download.tensorflow.org/data/spa-eng.zip\n",
            "Resolving storage.googleapis.com (storage.googleapis.com)... 142.250.1.128, 108.177.121.128, 142.250.103.128, ...\n",
            "Connecting to storage.googleapis.com (storage.googleapis.com)|142.250.1.128|:80... connected.\n",
            "HTTP request sent, awaiting response... 200 OK\n",
            "Length: 2638744 (2.5M) [application/zip]\n",
            "Saving to: ‘spa-eng.zip’\n",
            "\n",
            "\rspa-eng.zip           0%[                    ]       0  --.-KB/s               \rspa-eng.zip         100%[===================>]   2.52M  --.-KB/s    in 0.02s   \n",
            "\n",
            "2023-06-04 18:34:47 (146 MB/s) - ‘spa-eng.zip’ saved [2638744/2638744]\n",
            "\n"
          ]
        }
      ],
      "source": [
        "!wget http://storage.googleapis.com/download.tensorflow.org/data/spa-eng.zip\n",
        "!unzip -q spa-eng.zip"
      ]
    },
    {
      "cell_type": "code",
      "source": [
        "#Libraries\n",
        "import random\n",
        "import tensorflow as tf\n",
        "import string\n",
        "import re\n",
        "import numpy as np\n",
        "import matplotlib.pyplot as plt\n",
        "\n",
        "from tensorflow import keras\n",
        "from tensorflow.keras import layers"
      ],
      "metadata": {
        "id": "Y0CFvnLxWDmn"
      },
      "execution_count": 2,
      "outputs": []
    },
    {
      "cell_type": "markdown",
      "source": [
        "### Files"
      ],
      "metadata": {
        "id": "uBuaCCtSWLJk"
      }
    },
    {
      "cell_type": "code",
      "source": [
        "#open our file\n",
        "archivo = 'spa-eng/spa.txt'\n",
        "with open(archivo) as f:\n",
        "  lineas = f.read().split('\\n')[:-1]\n",
        "#pair sentences\n",
        "parejas = []\n",
        "for linea in lineas:\n",
        "  #split english sentences from spanish\n",
        "  eng,spa = linea.split(\"\\t\")\n",
        "  #starting token and finishing token\n",
        "  spa = \"[BEG.] \"+spa+\"[END]\"\n",
        "  parejas.append((eng,spa))"
      ],
      "metadata": {
        "id": "z18ZCMFSVLdT"
      },
      "execution_count": 3,
      "outputs": []
    },
    {
      "cell_type": "code",
      "source": [
        "parejas[:5]"
      ],
      "metadata": {
        "colab": {
          "base_uri": "https://localhost:8080/"
        },
        "id": "Rk-rY7VTV8jt",
        "outputId": "15fbc37d-9dba-4ba6-ae79-43133fc094ca"
      },
      "execution_count": 4,
      "outputs": [
        {
          "output_type": "execute_result",
          "data": {
            "text/plain": [
              "[('Go.', '[BEG.] Ve.[END]'),\n",
              " ('Go.', '[BEG.] Vete.[END]'),\n",
              " ('Go.', '[BEG.] Vaya.[END]'),\n",
              " ('Go.', '[BEG.] Váyase.[END]'),\n",
              " ('Hi.', '[BEG.] Hola.[END]')]"
            ]
          },
          "metadata": {},
          "execution_count": 4
        }
      ]
    },
    {
      "cell_type": "code",
      "source": [
        "#shuffle for improving training\n",
        "random.shuffle(parejas)\n",
        "#total length\n",
        "len_total = len(parejas)\n",
        "#choosing our validation set's length (15%)\n",
        "num_val_muestras = int(0.15*len(parejas))"
      ],
      "metadata": {
        "id": "tTvgEVimV-8w"
      },
      "execution_count": 5,
      "outputs": []
    },
    {
      "cell_type": "markdown",
      "source": [
        "### Train, test and validation datasets"
      ],
      "metadata": {
        "id": "GQq_92FwXdIZ"
      }
    },
    {
      "cell_type": "code",
      "source": [
        "#choosing our train set's length (100%-2*(15%)=70%)\n",
        "num_train_muestras = len(parejas)-2*num_val_muestras\n",
        "#defining our train, test and validation datasets\n",
        "\n",
        "#[from 0 to 70% of the data] = train\n",
        "parejas_train = parejas[:num_train_muestras]\n",
        "#[from 70% to 85% of the data] = validation\n",
        "parejas_val = parejas[num_train_muestras:num_train_muestras+num_val_muestras]\n",
        "#[from 85% to 100% of the data] = test\n",
        "parejas_test = parejas[num_train_muestras+num_val_muestras:]"
      ],
      "metadata": {
        "id": "3IJZj9XyXZbO"
      },
      "execution_count": 6,
      "outputs": []
    },
    {
      "cell_type": "markdown",
      "source": [
        "### Preprocessing"
      ],
      "metadata": {
        "id": "GQX8uKp2Yy2f"
      }
    },
    {
      "cell_type": "code",
      "source": [
        "#taking of punctuation marks for spanish data\n",
        "strip_chars = string.punctuation + \"¿\"\n",
        "strip_chars = strip_chars.replace(\"[\",\"\")\n",
        "strip_chars = strip_chars.replace(\"]\",\"\")"
      ],
      "metadata": {
        "id": "qKfWI_zLYt26"
      },
      "execution_count": 7,
      "outputs": []
    },
    {
      "cell_type": "code",
      "source": [
        "#evaluate chars regex\n",
        "f\"[{re.escape(strip_chars)}]\""
      ],
      "metadata": {
        "colab": {
          "base_uri": "https://localhost:8080/",
          "height": 35
        },
        "id": "eYH52HsXZbGA",
        "outputId": "4928d7d7-8707-4808-c823-c9c55c093d0b"
      },
      "execution_count": 8,
      "outputs": [
        {
          "output_type": "execute_result",
          "data": {
            "text/plain": [
              "'[!\"\\\\#\\\\$%\\\\&\\'\\\\(\\\\)\\\\*\\\\+,\\\\-\\\\./:;<=>\\\\?@\\\\\\\\\\\\^_`\\\\{\\\\|\\\\}\\\\~¿]'"
            ],
            "application/vnd.google.colaboratory.intrinsic+json": {
              "type": "string"
            }
          },
          "metadata": {},
          "execution_count": 8
        }
      ]
    },
    {
      "cell_type": "code",
      "source": [
        "#preprocessing our data \n",
        "def custom_standardization(input):\n",
        "  lowcap = tf.strings.lower(input)\n",
        "  return tf.strings.regex_replace(lowcap,f\"[{re.escape(strip_chars)}]\",\"\")\n",
        "#text vectorization to transform words into code\n",
        "v_size = 15000\n",
        "seq_len = 20\n",
        "#english\n",
        "source_vec = layers.TextVectorization(\n",
        "    max_tokens=v_size,\n",
        "    output_mode=\"int\",\n",
        "    output_sequence_length=seq_len,\n",
        ")\n",
        "#spanish (+1 token) and callback for standardization of the text to delete chars\n",
        "target_vec = layers.TextVectorization(\n",
        "    max_tokens=v_size,\n",
        "    output_mode=\"int\",\n",
        "    output_sequence_length=seq_len+1,\n",
        "    standardize=custom_standardization\n",
        ")"
      ],
      "metadata": {
        "id": "wIU9BhHQZgSJ"
      },
      "execution_count": 9,
      "outputs": []
    },
    {
      "cell_type": "code",
      "source": [
        "#training our data\n",
        "train_english_texts = [pareja[0] for pareja in parejas_train]\n",
        "train_spanish_texts = [pareja[1] for pareja in parejas_train]\n",
        "#asigning codes\n",
        "source_vec.adapt(train_english_texts)\n",
        "target_vec.adapt(train_spanish_texts)"
      ],
      "metadata": {
        "id": "_qFkNO9rbAP6"
      },
      "execution_count": 10,
      "outputs": []
    },
    {
      "cell_type": "markdown",
      "source": [
        "### Datasets"
      ],
      "metadata": {
        "id": "-QMgiUBxbwFu"
      }
    },
    {
      "cell_type": "code",
      "source": [
        "#size of dataset batches\n",
        "batch_size = 64\n",
        "#dataset format\n",
        "def format_dataset(eng,spa):\n",
        "  #text vectorization to transform word into code after preprocessing\n",
        "  eng = source_vec(eng)\n",
        "  spa = target_vec(spa)\n",
        "  #return structure of english and spanish sentences, and the output with the final token\n",
        "  return({\"english\":eng,\"spanish\":spa[:,:-1],},spa[:,1:])\n",
        "\n",
        "def make_dataset(parejas):\n",
        "  eng_texts,spa_texts = zip(*parejas) #split english from spanish\n",
        "  eng_texts = list(eng_texts)\n",
        "  spa_texts = list(spa_texts)\n",
        "  dataset = tf.data.Dataset.from_tensor_slices((eng_texts,spa_texts))\n",
        "  dataset = dataset.batch(batch_size)\n",
        "  dataset = dataset.map(format_dataset,num_parallel_calls=4) #map dataset using callback with paralization\n",
        "  return dataset.shuffle(2048).prefetch(16).cache() #efficiency decisions\n",
        "\n",
        "train_ds = make_dataset(parejas_train)\n",
        "val__ds = make_dataset(parejas_val)"
      ],
      "metadata": {
        "id": "zKD9I-hQbdTj"
      },
      "execution_count": 11,
      "outputs": []
    },
    {
      "cell_type": "code",
      "source": [
        "#visualization of the train dataset\n",
        "print(list(train_ds.as_numpy_iterator())[50]);"
      ],
      "metadata": {
        "colab": {
          "base_uri": "https://localhost:8080/"
        },
        "id": "cDMfT5WUdfJu",
        "outputId": "727bdc54-f74a-4302-daf5-57cea699b22e"
      },
      "execution_count": 12,
      "outputs": [
        {
          "output_type": "stream",
          "name": "stdout",
          "text": [
            "({'english': array([[   6,   59,  257, ...,    0,    0,    0],\n",
            "       [  21,  659,   39, ...,    0,    0,    0],\n",
            "       [   5,  140, 4701, ...,    0,    0,    0],\n",
            "       ...,\n",
            "       [  15,    5,   32, ...,    0,    0,    0],\n",
            "       [  34,   33,  227, ...,    0,    0,    0],\n",
            "       [  17,  216,    3, ...,    0,    0,    0]]), 'spanish': array([[  2,   8, 194, ...,   0,   0,   0],\n",
            "       [  2,  26,  24, ...,   0,   0,   0],\n",
            "       [  2,  83,   4, ...,   0,   0,   0],\n",
            "       ...,\n",
            "       [  2, 128, 348, ...,   0,   0,   0],\n",
            "       [  2, 135, 264, ...,   0,   0,   0],\n",
            "       [  2,  41, 177, ...,   0,   0,   0]])}, array([[   8,  194,  517, ...,    0,    0,    0],\n",
            "       [  26,   24,  742, ...,    0,    0,    0],\n",
            "       [  83,    4, 1643, ...,    0,    0,    0],\n",
            "       ...,\n",
            "       [ 128,  348,    5, ...,    0,    0,    0],\n",
            "       [ 135,  264,    6, ...,    0,    0,    0],\n",
            "       [  41,  177,   59, ...,    0,    0,    0]]))\n"
          ]
        }
      ]
    },
    {
      "cell_type": "code",
      "source": [
        "#shapes\n",
        "for inputs,targets in train_ds.take(1):\n",
        "  print(f\"inputs['english'].shape: {inputs['english'].shape}\")\n",
        "  print(f\"inputs['spanish'].shape: {inputs['spanish'].shape}\")\n",
        "  print(f\"targets.shape: {targets.shape}\")"
      ],
      "metadata": {
        "colab": {
          "base_uri": "https://localhost:8080/"
        },
        "id": "K7CIKeMXdnIA",
        "outputId": "9bec68db-5ca8-4856-cc5a-08a1496ee15a"
      },
      "execution_count": 13,
      "outputs": [
        {
          "output_type": "stream",
          "name": "stdout",
          "text": [
            "inputs['english'].shape: (64, 20)\n",
            "inputs['spanish'].shape: (64, 20)\n",
            "targets.shape: (64, 20)\n"
          ]
        }
      ]
    },
    {
      "cell_type": "markdown",
      "source": [
        "### RNN"
      ],
      "metadata": {
        "id": "QO9ulH05erWb"
      }
    },
    {
      "cell_type": "code",
      "source": [
        "from sklearn.metrics import accuracy_score, precision_score, recall_score"
      ],
      "metadata": {
        "id": "gYK0tvh8NYKu"
      },
      "execution_count": 14,
      "outputs": []
    },
    {
      "cell_type": "code",
      "source": [
        "#embedding dimensions (semantic layer)\n",
        "embed_dim = 256\n",
        "#latent dimensions\n",
        "latent_dim = 1024"
      ],
      "metadata": {
        "id": "bQrzQbmyeJm8"
      },
      "execution_count": 15,
      "outputs": []
    },
    {
      "cell_type": "code",
      "source": [
        "#Use GRU to compare with the Transformer\n",
        "#input layer = english (conects with our dataset)\n",
        "source = keras.Input(shape=(None,),dtype='int64',name='english')\n",
        "#semantic layer, taking into account word by word\n",
        "x = layers.Embedding(v_size,embed_dim,mask_zero=True)(source)\n",
        "#last layer of the encoder\n",
        "encoder_source = layers.Bidirectional(layers.GRU(latent_dim),merge_mode='sum')(x)"
      ],
      "metadata": {
        "id": "BhGYFyLIe-YM"
      },
      "execution_count": 16,
      "outputs": []
    },
    {
      "cell_type": "code",
      "source": [
        "#same as above\n",
        "past_target = keras.Input(shape=(None,), dtype='int64',name='spanish')\n",
        "x = layers.Embedding(v_size,embed_dim,mask_zero=True)(past_target)\n",
        "#create gru layer\n",
        "decoder_gru = layers.GRU(latent_dim,return_sequences=True)\n",
        "#input of the layer is spanish, and the initial state is the before result\n",
        "x = decoder_gru(x,initial_state=encoder_source)\n",
        "#reduce overfitting\n",
        "x = layers.Dropout(0.5)(x)\n",
        "#Dense layer (word by word)\n",
        "target_next_step = layers.Dense(v_size,activation='softmax')(x)\n",
        "#model\n",
        "seq2seq_rnn = keras.Model([source,past_target],target_next_step)"
      ],
      "metadata": {
        "id": "GK7BaLuZgYDe"
      },
      "execution_count": 17,
      "outputs": []
    },
    {
      "cell_type": "code",
      "source": [
        "#summary of the model\n",
        "seq2seq_rnn.summary()"
      ],
      "metadata": {
        "colab": {
          "base_uri": "https://localhost:8080/"
        },
        "id": "gfmipZ1Hhtd8",
        "outputId": "0a370d21-a31c-46dc-83cd-360173d9f2fa"
      },
      "execution_count": 18,
      "outputs": [
        {
          "output_type": "stream",
          "name": "stdout",
          "text": [
            "Model: \"model\"\n",
            "__________________________________________________________________________________________________\n",
            " Layer (type)                   Output Shape         Param #     Connected to                     \n",
            "==================================================================================================\n",
            " english (InputLayer)           [(None, None)]       0           []                               \n",
            "                                                                                                  \n",
            " spanish (InputLayer)           [(None, None)]       0           []                               \n",
            "                                                                                                  \n",
            " embedding (Embedding)          (None, None, 256)    3840000     ['english[0][0]']                \n",
            "                                                                                                  \n",
            " embedding_1 (Embedding)        (None, None, 256)    3840000     ['spanish[0][0]']                \n",
            "                                                                                                  \n",
            " bidirectional (Bidirectional)  (None, 1024)         7876608     ['embedding[0][0]']              \n",
            "                                                                                                  \n",
            " gru_1 (GRU)                    (None, None, 1024)   3938304     ['embedding_1[0][0]',            \n",
            "                                                                  'bidirectional[0][0]']          \n",
            "                                                                                                  \n",
            " dropout (Dropout)              (None, None, 1024)   0           ['gru_1[0][0]']                  \n",
            "                                                                                                  \n",
            " dense (Dense)                  (None, None, 15000)  15375000    ['dropout[0][0]']                \n",
            "                                                                                                  \n",
            "==================================================================================================\n",
            "Total params: 34,869,912\n",
            "Trainable params: 34,869,912\n",
            "Non-trainable params: 0\n",
            "__________________________________________________________________________________________________\n"
          ]
        }
      ]
    },
    {
      "cell_type": "code",
      "source": [
        "#compile the model\n",
        "seq2seq_rnn.compile(\n",
        "    optimizer='rmsprop',\n",
        "    loss='sparse_categorical_crossentropy',\n",
        "    metrics=['accuracy']\n",
        ")\n",
        "history = seq2seq_rnn.fit(train_ds,epochs=30,validation_data=val__ds)"
      ],
      "metadata": {
        "colab": {
          "base_uri": "https://localhost:8080/"
        },
        "id": "R0icc46zh22t",
        "outputId": "ccf64fbe-dae1-4d4b-f812-975ff85749cb"
      },
      "execution_count": 19,
      "outputs": [
        {
          "output_type": "stream",
          "name": "stdout",
          "text": [
            "Epoch 1/30\n",
            "1302/1302 [==============================] - 141s 94ms/step - loss: 5.2801 - accuracy: 0.2382 - val_loss: 4.3586 - val_accuracy: 0.3272\n",
            "Epoch 2/30\n",
            "1302/1302 [==============================] - 105s 81ms/step - loss: 4.1714 - accuracy: 0.3548 - val_loss: 3.6471 - val_accuracy: 0.4163\n",
            "Epoch 3/30\n",
            "1302/1302 [==============================] - 106s 81ms/step - loss: 3.6178 - accuracy: 0.4174 - val_loss: 3.2546 - val_accuracy: 0.4647\n",
            "Epoch 4/30\n",
            "1302/1302 [==============================] - 105s 81ms/step - loss: 3.2274 - accuracy: 0.4614 - val_loss: 2.9848 - val_accuracy: 0.5001\n",
            "Epoch 5/30\n",
            "1302/1302 [==============================] - 106s 81ms/step - loss: 2.9290 - accuracy: 0.4973 - val_loss: 2.7865 - val_accuracy: 0.5292\n",
            "Epoch 6/30\n",
            "1302/1302 [==============================] - 105s 81ms/step - loss: 2.6849 - accuracy: 0.5273 - val_loss: 2.6679 - val_accuracy: 0.5458\n",
            "Epoch 7/30\n",
            "1302/1302 [==============================] - 105s 81ms/step - loss: 2.4878 - accuracy: 0.5519 - val_loss: 2.5700 - val_accuracy: 0.5615\n",
            "Epoch 8/30\n",
            "1302/1302 [==============================] - 105s 81ms/step - loss: 2.3133 - accuracy: 0.5739 - val_loss: 2.4823 - val_accuracy: 0.5735\n",
            "Epoch 9/30\n",
            "1302/1302 [==============================] - 104s 80ms/step - loss: 2.1656 - accuracy: 0.5929 - val_loss: 2.4237 - val_accuracy: 0.5831\n",
            "Epoch 10/30\n",
            "1302/1302 [==============================] - 105s 80ms/step - loss: 2.0327 - accuracy: 0.6107 - val_loss: 2.3678 - val_accuracy: 0.5902\n",
            "Epoch 11/30\n",
            "1302/1302 [==============================] - 105s 81ms/step - loss: 1.9207 - accuracy: 0.6253 - val_loss: 2.3291 - val_accuracy: 0.5962\n",
            "Epoch 12/30\n",
            "1302/1302 [==============================] - 106s 81ms/step - loss: 1.8246 - accuracy: 0.6386 - val_loss: 2.2924 - val_accuracy: 0.6018\n",
            "Epoch 13/30\n",
            "1302/1302 [==============================] - 104s 80ms/step - loss: 1.7405 - accuracy: 0.6491 - val_loss: 2.2784 - val_accuracy: 0.6042\n",
            "Epoch 14/30\n",
            "1302/1302 [==============================] - 105s 81ms/step - loss: 1.6604 - accuracy: 0.6610 - val_loss: 2.2553 - val_accuracy: 0.6085\n",
            "Epoch 15/30\n",
            "1302/1302 [==============================] - 105s 81ms/step - loss: 1.5970 - accuracy: 0.6709 - val_loss: 2.2390 - val_accuracy: 0.6103\n",
            "Epoch 16/30\n",
            "1302/1302 [==============================] - 106s 81ms/step - loss: 1.5385 - accuracy: 0.6783 - val_loss: 2.2245 - val_accuracy: 0.6116\n",
            "Epoch 17/30\n",
            "1302/1302 [==============================] - 105s 81ms/step - loss: 1.4935 - accuracy: 0.6846 - val_loss: 2.2282 - val_accuracy: 0.6131\n",
            "Epoch 18/30\n",
            "1302/1302 [==============================] - 106s 81ms/step - loss: 1.4511 - accuracy: 0.6907 - val_loss: 2.2046 - val_accuracy: 0.6160\n",
            "Epoch 19/30\n",
            "1302/1302 [==============================] - 105s 81ms/step - loss: 1.4124 - accuracy: 0.6967 - val_loss: 2.2059 - val_accuracy: 0.6164\n",
            "Epoch 20/30\n",
            "1302/1302 [==============================] - 106s 81ms/step - loss: 1.3859 - accuracy: 0.7005 - val_loss: 2.1874 - val_accuracy: 0.6186\n",
            "Epoch 21/30\n",
            "1302/1302 [==============================] - 105s 80ms/step - loss: 1.3630 - accuracy: 0.7031 - val_loss: 2.1785 - val_accuracy: 0.6201\n",
            "Epoch 22/30\n",
            "1302/1302 [==============================] - 105s 81ms/step - loss: 1.3491 - accuracy: 0.7053 - val_loss: 2.1872 - val_accuracy: 0.6173\n",
            "Epoch 23/30\n",
            "1302/1302 [==============================] - 106s 81ms/step - loss: 1.3342 - accuracy: 0.7071 - val_loss: 2.1731 - val_accuracy: 0.6181\n",
            "Epoch 24/30\n",
            "1302/1302 [==============================] - 106s 81ms/step - loss: 1.3332 - accuracy: 0.7064 - val_loss: 2.1654 - val_accuracy: 0.6197\n",
            "Epoch 25/30\n",
            "1302/1302 [==============================] - 105s 80ms/step - loss: 1.3308 - accuracy: 0.7063 - val_loss: 2.1653 - val_accuracy: 0.6204\n",
            "Epoch 26/30\n",
            "1302/1302 [==============================] - 105s 81ms/step - loss: 1.3201 - accuracy: 0.7084 - val_loss: 2.1687 - val_accuracy: 0.6191\n",
            "Epoch 27/30\n",
            "1302/1302 [==============================] - 106s 81ms/step - loss: 1.3249 - accuracy: 0.7064 - val_loss: 2.1658 - val_accuracy: 0.6200\n",
            "Epoch 28/30\n",
            "1302/1302 [==============================] - 105s 81ms/step - loss: 1.3287 - accuracy: 0.7060 - val_loss: 2.1517 - val_accuracy: 0.6198\n",
            "Epoch 29/30\n",
            "1302/1302 [==============================] - 106s 81ms/step - loss: 1.3411 - accuracy: 0.7038 - val_loss: 2.1543 - val_accuracy: 0.6192\n",
            "Epoch 30/30\n",
            "1302/1302 [==============================] - 106s 81ms/step - loss: 1.3509 - accuracy: 0.7019 - val_loss: 2.1559 - val_accuracy: 0.6176\n"
          ]
        }
      ]
    },
    {
      "cell_type": "code",
      "source": [
        "loss_train = history.history['loss']\n",
        "loss_val = history.history['val_loss']\n",
        "epochs = range(1,31)\n",
        "plt.plot(epochs, loss_train, 'g', label='Training loss')\n",
        "plt.plot(epochs, loss_val, 'b', label='Val loss')\n",
        "plt.title('Training and Validation loss')\n",
        "plt.xlabel('Epochs')\n",
        "plt.ylabel('Loss')\n",
        "plt.legend()\n",
        "plt.show()"
      ],
      "metadata": {
        "colab": {
          "base_uri": "https://localhost:8080/",
          "height": 472
        },
        "id": "6QACa93sOsxE",
        "outputId": "99a48ead-3637-40dc-a371-5f6eff6ca8ba"
      },
      "execution_count": 20,
      "outputs": [
        {
          "output_type": "display_data",
          "data": {
            "text/plain": [
              "<Figure size 640x480 with 1 Axes>"
            ],
            "image/png": "[encoded data removed]"
          },
          "metadata": {}
        }
      ]
    },
    {
      "cell_type": "code",
      "source": [
        "loss_train = history.history['accuracy']\n",
        "loss_val = history.history['val_accuracy']\n",
        "epochs = range(1,31)\n",
        "plt.plot(epochs, loss_train, 'g', label='Training accuracy')\n",
        "plt.plot(epochs, loss_val, 'b', label='Val accuracy')\n",
        "plt.title('Training and Validation accuracy')\n",
        "plt.xlabel('Epochs')\n",
        "plt.ylabel('Accuracy')\n",
        "plt.legend()\n",
        "plt.show()"
      ],
      "metadata": {
        "id": "2PwuxnMTox4j",
        "colab": {
          "base_uri": "https://localhost:8080/",
          "height": 472
        },
        "outputId": "da4256fb-7da1-44c0-a4a9-8a123af5c8ac"
      },
      "execution_count": 22,
      "outputs": [
        {
          "output_type": "display_data",
          "data": {
            "text/plain": [
              "<Figure size 640x480 with 1 Axes>"
            ],
            "image/png": "[encoded data removed]"
          },
          "metadata": {}
        }
      ]
    },
    {
      "cell_type": "markdown",
      "source": [
        "### Using our RNN for MT"
      ],
      "metadata": {
        "id": "hCCxScdzlPeu"
      }
    },
    {
      "cell_type": "code",
      "source": [
        "#spanish vocabulary, since we will get a code, not a word\n",
        "spa_voc = target_vec.get_vocabulary()\n",
        "#dictionary {code:word}\n",
        "spa_index_lookup = dict(zip(range(len(spa_voc)),spa_voc))\n",
        "#length of the sequence is 20\n",
        "max_decoded_sentence_len = 20"
      ],
      "metadata": {
        "id": "JQq48cnglRAM"
      },
      "execution_count": 23,
      "outputs": []
    },
    {
      "cell_type": "code",
      "source": [
        "#pairs for test\n",
        "test_eng_texts = [pareja[0] for pareja in parejas_test]"
      ],
      "metadata": {
        "id": "UrLM3C8XqDuk"
      },
      "execution_count": 24,
      "outputs": []
    },
    {
      "cell_type": "code",
      "source": [
        "len(test_eng_texts)"
      ],
      "metadata": {
        "id": "P5gITOsRqQrk",
        "colab": {
          "base_uri": "https://localhost:8080/"
        },
        "outputId": "da7484ab-633e-4a79-a125-9378511b9a3b"
      },
      "execution_count": 25,
      "outputs": [
        {
          "output_type": "execute_result",
          "data": {
            "text/plain": [
              "17844"
            ]
          },
          "metadata": {},
          "execution_count": 25
        }
      ]
    },
    {
      "cell_type": "code",
      "source": [
        "# a simulation of what will happen\n",
        "'''\n",
        "input_sentence = random.choice(test_eng_texts)\n",
        "print(input_sentence)\n",
        "\n",
        "tokenized_input = source_vec([input_sentence])\n",
        "print(tokenized_input)\n",
        "\n",
        "decoded_sentence = '[BEG.]'\n",
        "tokenized_output = target_vec([decoded_sentence])\n",
        "print(tokenized_output)\n",
        "\n",
        "next_tok_pred = seq2seq_rnn.predict([tokenized_input,tokenized_output])\n",
        "print(next_tok_pred[0,0,:].shape)\n",
        "print(next_tok_pred[0,0,:])\n",
        "\n",
        "sampled_tok_idx = np.argmax(next_tok_pred[0,0,:])\n",
        "print(sampled_tok_idx)\n",
        "\n",
        "sampled_tok = spa_index_lookup[sampled_tok_idx]\n",
        "print(sampled_tok)\n",
        "\n",
        "decoded_sentence += \" \"+sampled_tok\n",
        "print(decoded_sentence)\n",
        "\n",
        "tokenized_output = target_vec([decoded_sentence])\n",
        "print(tokenized_output)\n",
        "\n",
        "next_tok_pred = seq2seq_rnn.predict([tokenized_input,tokenized_output])\n",
        "print(next_tok_pred[0,1,:].shape)\n",
        "print(next_tok_pred[0,1,:])\n",
        "\n",
        "sampled_tok_idx = np.argmax(next_tok_pred[0,1,:])\n",
        "print(sampled_tok_idx)\n",
        "\n",
        "sampled_tok = spa_index_lookup[sampled_tok_idx]\n",
        "print(sampled_tok)\n",
        "\n",
        "decoded_sentence += \" \"+sampled_tok\n",
        "print(decoded_sentence)\n",
        "'''"
      ],
      "metadata": {
        "id": "cZN7C6RcrNKP",
        "colab": {
          "base_uri": "https://localhost:8080/",
          "height": 140
        },
        "outputId": "0a977fff-8906-4189-b557-48cf9ac9de8c"
      },
      "execution_count": 26,
      "outputs": [
        {
          "output_type": "execute_result",
          "data": {
            "text/plain": [
              "'\\ninput_sentence = random.choice(test_eng_texts)\\nprint(input_sentence)\\n\\ntokenized_input = source_vec([input_sentence])\\nprint(tokenized_input)\\n\\ndecoded_sentence = \\'[BEG.]\\'\\ntokenized_output = target_vec([decoded_sentence])\\nprint(tokenized_output)\\n\\nnext_tok_pred = seq2seq_rnn.predict([tokenized_input,tokenized_output])\\nprint(next_tok_pred[0,0,:].shape)\\nprint(next_tok_pred[0,0,:])\\n\\nsampled_tok_idx = np.argmax(next_tok_pred[0,0,:])\\nprint(sampled_tok_idx)\\n\\nsampled_tok = spa_index_lookup[sampled_tok_idx]\\nprint(sampled_tok)\\n\\ndecoded_sentence += \" \"+sampled_tok\\nprint(decoded_sentence)\\n\\ntokenized_output = target_vec([decoded_sentence])\\nprint(tokenized_output)\\n\\nnext_tok_pred = seq2seq_rnn.predict([tokenized_input,tokenized_output])\\nprint(next_tok_pred[0,1,:].shape)\\nprint(next_tok_pred[0,1,:])\\n\\nsampled_tok_idx = np.argmax(next_tok_pred[0,1,:])\\nprint(sampled_tok_idx)\\n\\nsampled_tok = spa_index_lookup[sampled_tok_idx]\\nprint(sampled_tok)\\n\\ndecoded_sentence += \" \"+sampled_tok\\nprint(decoded_sentence)\\n'"
            ],
            "application/vnd.google.colaboratory.intrinsic+json": {
              "type": "string"
            }
          },
          "metadata": {},
          "execution_count": 26
        }
      ]
    },
    {
      "cell_type": "code",
      "source": [
        "#so we create a function which will help us decode our input\n",
        "def decode_sequence(input_sentence):\n",
        "  tokenized_input = source_vec([input_sentence])\n",
        "  decoded_sentence = '[BEG.]'\n",
        "  for i in range(max_decoded_sentence_len):\n",
        "    tokenized_output = target_vec([decoded_sentence])\n",
        "    next_tok_pred = seq2seq_rnn.predict([tokenized_input,tokenized_output])\n",
        "    sampled_tok_idx = np.argmax(next_tok_pred[0,i,:])\n",
        "    sampled_tok = spa_index_lookup[sampled_tok_idx]\n",
        "    decoded_sentence += ' '+sampled_tok\n",
        "    if sampled_tok == ['END']:\n",
        "      break\n",
        "\n",
        "  return decoded_sentence\n",
        "\n",
        "test_eng_texts = [pareja[0] for pareja in parejas_test]\n",
        "for _ in range(5):\n",
        "  input_sentence = random.choice(test_eng_texts)\n",
        "  print('.')\n",
        "  print(input_sentence)\n",
        "  print(decode_sequence(input_sentence))"
      ],
      "metadata": {
        "id": "v6ltn2Jesn9X",
        "colab": {
          "base_uri": "https://localhost:8080/"
        },
        "outputId": "3a6470f2-9974-45c3-9b71-08d28526f11f"
      },
      "execution_count": 27,
      "outputs": [
        {
          "output_type": "stream",
          "name": "stdout",
          "text": [
            ".\n",
            "We should get to Chicago by lunchtime.\n",
            "1/1 [==============================] - 3s 3s/step\n",
            "1/1 [==============================] - 0s 24ms/step\n",
            "1/1 [==============================] - 0s 23ms/step\n",
            "1/1 [==============================] - 0s 27ms/step\n",
            "1/1 [==============================] - 0s 24ms/step\n",
            "1/1 [==============================] - 0s 25ms/step\n",
            "1/1 [==============================] - 0s 26ms/step\n",
            "1/1 [==============================] - 0s 24ms/step\n",
            "1/1 [==============================] - 0s 25ms/step\n",
            "1/1 [==============================] - 0s 22ms/step\n",
            "1/1 [==============================] - 0s 30ms/step\n",
            "1/1 [==============================] - 0s 23ms/step\n",
            "1/1 [==============================] - 0s 23ms/step\n",
            "1/1 [==============================] - 0s 24ms/step\n",
            "1/1 [==============================] - 0s 29ms/step\n",
            "1/1 [==============================] - 0s 24ms/step\n",
            "1/1 [==============================] - 0s 27ms/step\n",
            "1/1 [==============================] - 0s 24ms/step\n",
            "1/1 [==============================] - 0s 24ms/step\n",
            "1/1 [==============================] - 0s 29ms/step\n",
            "[BEG.] deberíamos [UNK] a las [UNK]  [UNK] [UNK] [UNK] [UNK] [UNK] [UNK] [UNK] [UNK] [UNK] [UNK] [UNK] [UNK] [UNK] [UNK]\n",
            ".\n",
            "I shouldn't have wasted my time reading that.\n",
            "1/1 [==============================] - 0s 27ms/step\n",
            "1/1 [==============================] - 0s 31ms/step\n",
            "1/1 [==============================] - 0s 25ms/step\n",
            "1/1 [==============================] - 0s 23ms/step\n",
            "1/1 [==============================] - 0s 28ms/step\n",
            "1/1 [==============================] - 0s 28ms/step\n",
            "1/1 [==============================] - 0s 36ms/step\n",
            "1/1 [==============================] - 0s 28ms/step\n",
            "1/1 [==============================] - 0s 30ms/step\n",
            "1/1 [==============================] - 0s 25ms/step\n",
            "1/1 [==============================] - 0s 24ms/step\n",
            "1/1 [==============================] - 0s 29ms/step\n",
            "1/1 [==============================] - 0s 24ms/step\n",
            "1/1 [==============================] - 0s 24ms/step\n",
            "1/1 [==============================] - 0s 31ms/step\n",
            "1/1 [==============================] - 0s 23ms/step\n",
            "1/1 [==============================] - 0s 25ms/step\n",
            "1/1 [==============================] - 0s 24ms/step\n",
            "1/1 [==============================] - 0s 25ms/step\n",
            "1/1 [==============================] - 0s 25ms/step\n",
            "[BEG.] no debí haber leído mi tiempo de eso[end]  [UNK] [UNK] [UNK] [UNK] [UNK] [UNK] [UNK] [UNK] [UNK] [UNK] [UNK]\n",
            ".\n",
            "You need to exercise more.\n",
            "1/1 [==============================] - 0s 22ms/step\n",
            "1/1 [==============================] - 0s 22ms/step\n",
            "1/1 [==============================] - 0s 24ms/step\n",
            "1/1 [==============================] - 0s 22ms/step\n",
            "1/1 [==============================] - 0s 25ms/step\n",
            "1/1 [==============================] - 0s 27ms/step\n",
            "1/1 [==============================] - 0s 23ms/step\n",
            "1/1 [==============================] - 0s 24ms/step\n",
            "1/1 [==============================] - 0s 25ms/step\n",
            "1/1 [==============================] - 0s 24ms/step\n",
            "1/1 [==============================] - 0s 25ms/step\n",
            "1/1 [==============================] - 0s 24ms/step\n",
            "1/1 [==============================] - 0s 24ms/step\n",
            "1/1 [==============================] - 0s 24ms/step\n",
            "1/1 [==============================] - 0s 30ms/step\n",
            "1/1 [==============================] - 0s 61ms/step\n",
            "1/1 [==============================] - 0s 41ms/step\n",
            "1/1 [==============================] - 0s 42ms/step\n",
            "1/1 [==============================] - 0s 33ms/step\n",
            "1/1 [==============================] - 0s 41ms/step\n",
            "[BEG.] necesitas hacer más[end]  [UNK] [UNK] [UNK] [UNK] [UNK] [UNK] [UNK] [UNK] [UNK] [UNK] [UNK] [UNK] [UNK] [UNK] [UNK] [UNK]\n",
            ".\n",
            "The sleeves of this coat have to be lengthened.\n",
            "1/1 [==============================] - 0s 36ms/step\n",
            "1/1 [==============================] - 0s 34ms/step\n",
            "1/1 [==============================] - 0s 35ms/step\n",
            "1/1 [==============================] - 0s 34ms/step\n",
            "1/1 [==============================] - 0s 33ms/step\n",
            "1/1 [==============================] - 0s 38ms/step\n",
            "1/1 [==============================] - 0s 36ms/step\n",
            "1/1 [==============================] - 0s 34ms/step\n",
            "1/1 [==============================] - 0s 33ms/step\n",
            "1/1 [==============================] - 0s 32ms/step\n",
            "1/1 [==============================] - 0s 36ms/step\n",
            "1/1 [==============================] - 0s 37ms/step\n",
            "1/1 [==============================] - 0s 36ms/step\n",
            "1/1 [==============================] - 0s 37ms/step\n",
            "1/1 [==============================] - 0s 39ms/step\n",
            "1/1 [==============================] - 0s 40ms/step\n",
            "1/1 [==============================] - 0s 37ms/step\n",
            "1/1 [==============================] - 0s 44ms/step\n",
            "1/1 [==============================] - 0s 26ms/step\n",
            "1/1 [==============================] - 0s 26ms/step\n",
            "[BEG.] la [UNK] de esta camisa no tiene [UNK]  [UNK] [UNK] [UNK] [UNK] [UNK] [UNK] [UNK] [UNK] [UNK] [UNK] [UNK]\n",
            ".\n",
            "This bridge was built two years ago.\n",
            "1/1 [==============================] - 0s 26ms/step\n",
            "1/1 [==============================] - 0s 25ms/step\n",
            "1/1 [==============================] - 0s 28ms/step\n",
            "1/1 [==============================] - 0s 24ms/step\n",
            "1/1 [==============================] - 0s 23ms/step\n",
            "1/1 [==============================] - 0s 27ms/step\n",
            "1/1 [==============================] - 0s 25ms/step\n",
            "1/1 [==============================] - 0s 25ms/step\n",
            "1/1 [==============================] - 0s 30ms/step\n",
            "1/1 [==============================] - 0s 23ms/step\n",
            "1/1 [==============================] - 0s 23ms/step\n",
            "1/1 [==============================] - 0s 23ms/step\n",
            "1/1 [==============================] - 0s 25ms/step\n",
            "1/1 [==============================] - 0s 24ms/step\n",
            "1/1 [==============================] - 0s 26ms/step\n",
            "1/1 [==============================] - 0s 33ms/step\n",
            "1/1 [==============================] - 0s 25ms/step\n",
            "1/1 [==============================] - 0s 26ms/step\n",
            "1/1 [==============================] - 0s 25ms/step\n",
            "1/1 [==============================] - 0s 28ms/step\n",
            "[BEG.] este [UNK] fue hace dos años[end]  [UNK] [UNK] [UNK] [UNK] [UNK] [UNK] [UNK] [UNK] [UNK] [UNK] [UNK] [UNK] [UNK]\n"
          ]
        }
      ]
    },
    {
      "cell_type": "markdown",
      "source": [
        "### Transformer"
      ],
      "metadata": {
        "id": "wZreOw2Zw0qN"
      }
    },
    {
      "cell_type": "code",
      "source": [
        "class TransformerEncoder(layers.Layer):\n",
        "  def __init__(self,embed_dim,dense_dim,num_heads,**kwargs):\n",
        "    super().__init__(**kwargs)\n",
        "    self.embed_dim = embed_dim\n",
        "    self.dense_dim = dense_dim\n",
        "    self.num_heads = num_heads\n",
        "    self.attention = layers.MultiHeadAttention(\n",
        "        num_heads=num_heads,key_dim=embed_dim\n",
        "    )\n",
        "    #dense layer sequence\n",
        "    self.dense_proj = keras.Sequential(\n",
        "        [layers.Dense(dense_dim,activation='relu'),\n",
        "        layers.Dense(embed_dim),]\n",
        "    )\n",
        "    self.layernorm_1 = layers.LayerNormalization()\n",
        "    self.layernorm_2 = layers.LayerNormalization()\n",
        "\n",
        "  def call(self,inputs,mask=None):\n",
        "    #here the input generates our output\n",
        "    #the mask is just for spanish sentences\n",
        "    if mask is not None:\n",
        "      mask = mask[:,tf.newaxis,:]\n",
        "    attention_output = self.attention(inputs,inputs,attention_mask=mask)\n",
        "    #we sum the input with the attention\n",
        "    proj_input = self.layernorm_1(inputs+attention_output)\n",
        "    #this is the output\n",
        "    proj_output = self.dense_proj(proj_input)\n",
        "    return self.layernorm_2(proj_input+proj_output)\n",
        "\n",
        "  def get_config(self):\n",
        "    config = super().get_config()\n",
        "    config.update({\n",
        "        'embed_dim':self.embed_dim,\n",
        "        'num_heads':self.num_heads,\n",
        "        'dense_dim':self.dense_dim,\n",
        "    })\n",
        "    return config"
      ],
      "metadata": {
        "id": "LJJ7vd_8uTFK"
      },
      "execution_count": 28,
      "outputs": []
    },
    {
      "cell_type": "code",
      "source": [
        "class TransformerDecoder(layers.Layer):\n",
        "  def __init__(self,embed_dim,dense_dim,num_heads,**kwargs):\n",
        "    super().__init__(**kwargs)\n",
        "    self.embed_dim = embed_dim\n",
        "    self.dense_dim = dense_dim\n",
        "    self.num_heads = num_heads\n",
        "    self.attention_1 = layers.MultiHeadAttention(\n",
        "        num_heads=num_heads,key_dim=embed_dim\n",
        "    )\n",
        "    self.attention_2 = layers.MultiHeadAttention(\n",
        "        num_heads=num_heads,key_dim=embed_dim\n",
        "    )\n",
        "    #dense layer sequence\n",
        "    self.dense_proj = keras.Sequential(\n",
        "        [layers.Dense(dense_dim,activation='relu'),\n",
        "        layers.Dense(embed_dim),]\n",
        "    )\n",
        "    #3 layers of normalization\n",
        "    self.layernorm_1 = layers.LayerNormalization()\n",
        "    self.layernorm_2 = layers.LayerNormalization()\n",
        "    self.layernorm_3 = layers.LayerNormalization()\n",
        "    self.supports_masking = True\n",
        "\n",
        "  def get_config(self):\n",
        "    config = super().get_config()\n",
        "    config.update({\n",
        "        'embed_dim':self.embed_dim,\n",
        "        'num_heads':self.num_heads,\n",
        "        'dense_dim':self.dense_dim,\n",
        "    })\n",
        "    return config\n",
        "\n",
        "  def get_causal_attention_mask(self,inputs):\n",
        "    #this is the mask\n",
        "    input_shape = tf.shape(inputs)\n",
        "    batch_size,sequence_length = input_shape[0],input_shape[1]\n",
        "    i = tf.range(sequence_length)[:,tf.newaxis]\n",
        "    j = tf.range(sequence_length)\n",
        "    mask = tf.cast(i >= j,dtype='int32')\n",
        "    mask = tf.reshape(mask,(1,input_shape[1],input_shape[1]))\n",
        "    mult = tf.concat([\n",
        "        tf.expand_dims(batch_size,-1),\n",
        "        tf.constant([1,1],dtype=tf.int32)],axis=0)\n",
        "    return tf.tile(mask,mult)\n",
        "\n",
        "  def call(self,inputs,encoder_outputs,mask=None):\n",
        "    #this is the heart of the encoder\n",
        "    causal_mask = self.get_causal_attention_mask(inputs)\n",
        "    if mask is not None:\n",
        "      padding_mask = tf.cast(\n",
        "          mask[:,tf.newaxis,:],dtype='int32'\n",
        "      )\n",
        "      padding_mask = tf.minimum(padding_mask,causal_mask)\n",
        "    #the first attention gets spanish\n",
        "    attention_output_1 = self.attention_1(\n",
        "        query=inputs,\n",
        "        value=inputs,\n",
        "        key=inputs,\n",
        "        attention_mask=causal_mask\n",
        "    )\n",
        "    #we have our normalization layer\n",
        "    attention_output_1 = self.layernorm_1(inputs+attention_output_1)\n",
        "    #the second attention combines the real english input with the spanish output\n",
        "    attention_output_2 = self.attention_2(\n",
        "        query=attention_output_1,\n",
        "        value=encoder_outputs,\n",
        "        key=encoder_outputs,\n",
        "        attention_mask=padding_mask,\n",
        "    )\n",
        "    #another normalization layer with feed forward (dense layer)\n",
        "    attention_output_2 = self.layernorm_2(attention_output_1+attention_output_2)\n",
        "    proj_output = self.dense_proj(attention_output_2)\n",
        "    return self.layernorm_3(attention_output_2+proj_output)"
      ],
      "metadata": {
        "id": "x_2Q8kCNzofj"
      },
      "execution_count": 29,
      "outputs": []
    },
    {
      "cell_type": "code",
      "source": [
        "#in addition with semantics vector, it goes together with the position\n",
        "#this is different from the embedding from the RNN\n",
        "class Positional_Embedding(layers.Layer):\n",
        "  def __init__(self,sequence_length,input_dim,output_dim,**kwargs):\n",
        "    super().__init__(**kwargs)\n",
        "    self.token_embeddings = layers.Embedding(\n",
        "        input_dim=input_dim,output_dim=output_dim\n",
        "    )\n",
        "    self.position_embeddings = layers.Embedding(\n",
        "        input_dim=sequence_length,output_dim=output_dim\n",
        "    )\n",
        "    self.sequence_length = sequence_length\n",
        "    self.input_dim = input_dim\n",
        "    self.output_dim = output_dim\n",
        "\n",
        "  def call(self,inputs):\n",
        "    #last dimension\n",
        "    length = tf.shape(inputs)[-1]\n",
        "    #range\n",
        "    positions = tf.range(start=0,limit=length,delta=1)\n",
        "    embedded_tokens = self.token_embeddings(inputs)\n",
        "    #it takes the index sequence\n",
        "    embedded_positions = self.position_embeddings(positions)\n",
        "    #our encoder sums up the tokens and the position\n",
        "    return embedded_tokens+embedded_positions\n",
        "\n",
        "  def compute_mask(self,inputs,mask=None):\n",
        "    return tf.math.not_equal(inputs,0)\n",
        "\n",
        "  def get_config(self):\n",
        "    config = super(Positional_Embedding,self).get_config()\n",
        "    config.update({\n",
        "        'output_dim':self.output_dim,\n",
        "        'sequence_length':self.sequence_length,\n",
        "        'input_dim':self.input_dim,\n",
        "    })\n",
        "    return config  "
      ],
      "metadata": {
        "id": "s-ki_HMvLnNa"
      },
      "execution_count": 30,
      "outputs": []
    },
    {
      "cell_type": "code",
      "source": [
        "embed_dim = 256\n",
        "dense_dim = 2048\n",
        "num_heads = 8\n",
        "\n",
        "#the input is our english sentence\n",
        "encoder_inputs = keras.Input(shape=(None,),dtype='int64',name='english')\n",
        "#the embedding\n",
        "x = Positional_Embedding(seq_len,v_size,embed_dim)(encoder_inputs)\n",
        "#encoder with our pre-set variables and the input\n",
        "encoder_outputs = TransformerEncoder(embed_dim,dense_dim,num_heads)(x)\n",
        "\n",
        "#the output is our spanish sentence\n",
        "decoder_inputs = keras.Input(shape=(None,),dtype='int64',name='spanish')\n",
        "#similar configurations\n",
        "x = Positional_Embedding(seq_len,v_size,embed_dim)(decoder_inputs)\n",
        "x = TransformerDecoder(embed_dim,dense_dim,num_heads)(x,encoder_outputs)\n",
        "x = layers.Dropout(0.5)(x)\n",
        "#we get the vector of the word\n",
        "decoder_outputs = layers.Dense(v_size,activation='softmax')(x)\n",
        "\n",
        "#we create our transformer\n",
        "transformer = keras.Model([encoder_inputs,decoder_inputs],decoder_outputs)"
      ],
      "metadata": {
        "id": "eSP8NFCPR_zS"
      },
      "execution_count": 31,
      "outputs": []
    },
    {
      "cell_type": "code",
      "source": [
        "transformer.summary()"
      ],
      "metadata": {
        "id": "qmc1bpG2TFjK",
        "colab": {
          "base_uri": "https://localhost:8080/"
        },
        "outputId": "5fa1f79f-6bb5-4441-cfb9-1e69d7f60e28"
      },
      "execution_count": 32,
      "outputs": [
        {
          "output_type": "stream",
          "name": "stdout",
          "text": [
            "Model: \"model_1\"\n",
            "__________________________________________________________________________________________________\n",
            " Layer (type)                   Output Shape         Param #     Connected to                     \n",
            "==================================================================================================\n",
            " english (InputLayer)           [(None, None)]       0           []                               \n",
            "                                                                                                  \n",
            " spanish (InputLayer)           [(None, None)]       0           []                               \n",
            "                                                                                                  \n",
            " positional__embedding (Positio  (None, None, 256)   3845120     ['english[0][0]']                \n",
            " nal_Embedding)                                                                                   \n",
            "                                                                                                  \n",
            " positional__embedding_1 (Posit  (None, None, 256)   3845120     ['spanish[0][0]']                \n",
            " ional_Embedding)                                                                                 \n",
            "                                                                                                  \n",
            " transformer_encoder (Transform  (None, None, 256)   3155456     ['positional__embedding[0][0]']  \n",
            " erEncoder)                                                                                       \n",
            "                                                                                                  \n",
            " transformer_decoder (Transform  (None, None, 256)   5259520     ['positional__embedding_1[0][0]',\n",
            " erDecoder)                                                       'transformer_encoder[0][0]']    \n",
            "                                                                                                  \n",
            " dropout_1 (Dropout)            (None, None, 256)    0           ['transformer_decoder[0][0]']    \n",
            "                                                                                                  \n",
            " dense_5 (Dense)                (None, None, 15000)  3855000     ['dropout_1[0][0]']              \n",
            "                                                                                                  \n",
            "==================================================================================================\n",
            "Total params: 19,960,216\n",
            "Trainable params: 19,960,216\n",
            "Non-trainable params: 0\n",
            "__________________________________________________________________________________________________\n"
          ]
        }
      ]
    },
    {
      "cell_type": "code",
      "source": [
        "transformer.compile(\n",
        "    optimizer='rmsprop',\n",
        "    loss='sparse_categorical_crossentropy',\n",
        "    metrics=['accuracy']\n",
        ")\n",
        "history_transformer = transformer.fit(train_ds,epochs=30,validation_data=val__ds)"
      ],
      "metadata": {
        "id": "asadRdq-WNJ_",
        "colab": {
          "base_uri": "https://localhost:8080/"
        },
        "outputId": "40008c31-8812-45d6-bd33-a5460f3cce1c"
      },
      "execution_count": 33,
      "outputs": [
        {
          "output_type": "stream",
          "name": "stdout",
          "text": [
            "Epoch 1/30\n",
            "1302/1302 [==============================] - 112s 77ms/step - loss: 4.4004 - accuracy: 0.3627 - val_loss: 3.4098 - val_accuracy: 0.4633\n",
            "Epoch 2/30\n",
            "1302/1302 [==============================] - 85s 66ms/step - loss: 3.3791 - accuracy: 0.4798 - val_loss: 2.9790 - val_accuracy: 0.5250\n",
            "Epoch 3/30\n",
            "1302/1302 [==============================] - 85s 66ms/step - loss: 3.0535 - accuracy: 0.5280 - val_loss: 2.8342 - val_accuracy: 0.5490\n",
            "Epoch 4/30\n",
            "1302/1302 [==============================] - 85s 66ms/step - loss: 2.8778 - accuracy: 0.5552 - val_loss: 2.7842 - val_accuracy: 0.5606\n",
            "Epoch 5/30\n",
            "1302/1302 [==============================] - 84s 65ms/step - loss: 2.7755 - accuracy: 0.5746 - val_loss: 2.7731 - val_accuracy: 0.5662\n",
            "Epoch 6/30\n",
            "1302/1302 [==============================] - 85s 65ms/step - loss: 2.7057 - accuracy: 0.5886 - val_loss: 2.7611 - val_accuracy: 0.5714\n",
            "Epoch 7/30\n",
            "1302/1302 [==============================] - 85s 66ms/step - loss: 2.6369 - accuracy: 0.6025 - val_loss: 2.7340 - val_accuracy: 0.5793\n",
            "Epoch 8/30\n",
            "1302/1302 [==============================] - 86s 66ms/step - loss: 2.5690 - accuracy: 0.6156 - val_loss: 2.7175 - val_accuracy: 0.5872\n",
            "Epoch 9/30\n",
            "1302/1302 [==============================] - 84s 65ms/step - loss: 2.5128 - accuracy: 0.6263 - val_loss: 2.6998 - val_accuracy: 0.5963\n",
            "Epoch 10/30\n",
            "1302/1302 [==============================] - 85s 65ms/step - loss: 2.4656 - accuracy: 0.6346 - val_loss: 2.7575 - val_accuracy: 0.5846\n",
            "Epoch 11/30\n",
            "1302/1302 [==============================] - 84s 65ms/step - loss: 2.4303 - accuracy: 0.6417 - val_loss: 2.6996 - val_accuracy: 0.5996\n",
            "Epoch 12/30\n",
            "1302/1302 [==============================] - 85s 65ms/step - loss: 2.4003 - accuracy: 0.6467 - val_loss: 2.7120 - val_accuracy: 0.6021\n",
            "Epoch 13/30\n",
            "1302/1302 [==============================] - 86s 66ms/step - loss: 2.3733 - accuracy: 0.6521 - val_loss: 2.7242 - val_accuracy: 0.6009\n",
            "Epoch 14/30\n",
            "1302/1302 [==============================] - 85s 65ms/step - loss: 2.3503 - accuracy: 0.6563 - val_loss: 2.7127 - val_accuracy: 0.6063\n",
            "Epoch 15/30\n",
            "1302/1302 [==============================] - 84s 65ms/step - loss: 2.3257 - accuracy: 0.6615 - val_loss: 2.7220 - val_accuracy: 0.6082\n",
            "Epoch 16/30\n",
            "1302/1302 [==============================] - 85s 66ms/step - loss: 2.3050 - accuracy: 0.6646 - val_loss: 2.7376 - val_accuracy: 0.6058\n",
            "Epoch 17/30\n",
            "1302/1302 [==============================] - 86s 66ms/step - loss: 2.2918 - accuracy: 0.6677 - val_loss: 2.7633 - val_accuracy: 0.6051\n",
            "Epoch 18/30\n",
            "1302/1302 [==============================] - 86s 66ms/step - loss: 2.2726 - accuracy: 0.6714 - val_loss: 2.7701 - val_accuracy: 0.6034\n",
            "Epoch 19/30\n",
            "1302/1302 [==============================] - 86s 66ms/step - loss: 2.2588 - accuracy: 0.6736 - val_loss: 2.8007 - val_accuracy: 0.6054\n",
            "Epoch 20/30\n",
            "1302/1302 [==============================] - 86s 66ms/step - loss: 2.2410 - accuracy: 0.6777 - val_loss: 2.7853 - val_accuracy: 0.6070\n",
            "Epoch 21/30\n",
            "1302/1302 [==============================] - 85s 65ms/step - loss: 2.2260 - accuracy: 0.6805 - val_loss: 2.8222 - val_accuracy: 0.6073\n",
            "Epoch 22/30\n",
            "1302/1302 [==============================] - 85s 66ms/step - loss: 2.2075 - accuracy: 0.6839 - val_loss: 2.8337 - val_accuracy: 0.6053\n",
            "Epoch 23/30\n",
            "1302/1302 [==============================] - 86s 66ms/step - loss: 2.1936 - accuracy: 0.6861 - val_loss: 2.8284 - val_accuracy: 0.6083\n",
            "Epoch 24/30\n",
            "1302/1302 [==============================] - 86s 66ms/step - loss: 2.1744 - accuracy: 0.6899 - val_loss: 2.8720 - val_accuracy: 0.6047\n",
            "Epoch 25/30\n",
            "1302/1302 [==============================] - 86s 66ms/step - loss: 2.1567 - accuracy: 0.6935 - val_loss: 2.8665 - val_accuracy: 0.6091\n",
            "Epoch 26/30\n",
            "1302/1302 [==============================] - 86s 66ms/step - loss: 2.1444 - accuracy: 0.6954 - val_loss: 2.9022 - val_accuracy: 0.6052\n",
            "Epoch 27/30\n",
            "1302/1302 [==============================] - 86s 66ms/step - loss: 2.1287 - accuracy: 0.6982 - val_loss: 2.8696 - val_accuracy: 0.6096\n",
            "Epoch 28/30\n",
            "1302/1302 [==============================] - 86s 66ms/step - loss: 2.1153 - accuracy: 0.7008 - val_loss: 2.8768 - val_accuracy: 0.6106\n",
            "Epoch 29/30\n",
            "1302/1302 [==============================] - 87s 67ms/step - loss: 2.0929 - accuracy: 0.7040 - val_loss: 2.9110 - val_accuracy: 0.6093\n",
            "Epoch 30/30\n",
            "1302/1302 [==============================] - 85s 65ms/step - loss: 2.0797 - accuracy: 0.7072 - val_loss: 2.9391 - val_accuracy: 0.6103\n"
          ]
        }
      ]
    },
    {
      "cell_type": "code",
      "source": [
        "loss_train = history_transformer.history['loss']\n",
        "loss_val = history_transformer.history['val_loss']\n",
        "epochs = range(1,31)\n",
        "plt.plot(epochs, loss_train, 'g', label='Training loss')\n",
        "plt.plot(epochs, loss_val, 'b', label='validation loss')\n",
        "plt.title('Training and Validation loss')\n",
        "plt.xlabel('Epochs')\n",
        "plt.ylabel('Loss')\n",
        "plt.legend()\n",
        "plt.show()"
      ],
      "metadata": {
        "id": "9qCuLJ8FoiQh",
        "colab": {
          "base_uri": "https://localhost:8080/",
          "height": 472
        },
        "outputId": "3fbc9b13-0f3a-4e2e-8ef9-b246629b80aa"
      },
      "execution_count": 34,
      "outputs": [
        {
          "output_type": "display_data",
          "data": {
            "text/plain": [
              "<Figure size 640x480 with 1 Axes>"
            ],
            "image/png": "[encoded data removed]"
          },
          "metadata": {}
        }
      ]
    },
    {
      "cell_type": "code",
      "source": [
        "loss_train = history_transformer.history['accuracy']\n",
        "loss_val = history_transformer.history['val_accuracy']\n",
        "epochs = range(1,31)\n",
        "plt.plot(epochs, loss_train, 'g', label='Training accuracy')\n",
        "plt.plot(epochs, loss_val, 'b', label='validation accuracy')\n",
        "plt.title('Training and Validation accuracy')\n",
        "plt.xlabel('Epochs')\n",
        "plt.ylabel('Accuracy')\n",
        "plt.legend()\n",
        "plt.show()"
      ],
      "metadata": {
        "id": "MpebQXVootMM",
        "colab": {
          "base_uri": "https://localhost:8080/",
          "height": 472
        },
        "outputId": "49d777af-4a89-4ca9-c6f2-47d775d6539f"
      },
      "execution_count": 35,
      "outputs": [
        {
          "output_type": "display_data",
          "data": {
            "text/plain": [
              "<Figure size 640x480 with 1 Axes>"
            ],
            "image/png": "[encoded data removed]"
          },
          "metadata": {}
        }
      ]
    },
    {
      "cell_type": "markdown",
      "source": [
        "### Test transformer"
      ],
      "metadata": {
        "id": "lwDYfEiEW5OY"
      }
    },
    {
      "cell_type": "code",
      "source": [
        "def decode_sequence_Transformer(input_sentence):\n",
        "  tokenized_input = source_vec([input_sentence])\n",
        "  decoded_sentence = '[BEG.]'\n",
        "  for i in range(max_decoded_sentence_len):\n",
        "    tokenized_output = target_vec([decoded_sentence])[:,:-1]\n",
        "    pred = transformer([tokenized_input,tokenized_output])\n",
        "    sampled_tok_idx = np.argmax(pred[0,i,:])\n",
        "    sampled_tok = spa_index_lookup[sampled_tok_idx]\n",
        "    decoded_sentence += ' '+sampled_tok\n",
        "    if sampled_tok == ['END']:\n",
        "      break\n",
        "\n",
        "  return decoded_sentence\n",
        "\n",
        "test_eng_texts = [pareja[0] for pareja in parejas_test]\n",
        "for _ in range(5):\n",
        "  input_sentence = random.choice(test_eng_texts)\n",
        "  print('.')\n",
        "  print(input_sentence)\n",
        "  print(decode_sequence_Transformer(input_sentence))"
      ],
      "metadata": {
        "id": "9Ykv44gOW38m",
        "colab": {
          "base_uri": "https://localhost:8080/"
        },
        "outputId": "1f934b09-d8ae-4518-ee37-95759523c588"
      },
      "execution_count": 36,
      "outputs": [
        {
          "output_type": "stream",
          "name": "stdout",
          "text": [
            ".\n",
            "He loved the change.\n",
            "[BEG.] Él quería el cambio[end]                \n",
            ".\n",
            "Nothing in the world is stronger than the will to survive.\n",
            "[BEG.] no en el mundo es más fuerte que el mundo [UNK]         \n",
            ".\n",
            "Who gave you permission to do this?\n",
            "[BEG.] quién te dio [UNK] para hacer esto[end]             \n",
            ".\n",
            "Tom ran to catch the train.\n",
            "[BEG.] tom corrió hacia el tren hacia el tren[end]            \n",
            ".\n",
            "I've found the key.\n",
            "[BEG.] he encontrado la llave[end]                \n"
          ]
        }
      ]
    }
  ]
}